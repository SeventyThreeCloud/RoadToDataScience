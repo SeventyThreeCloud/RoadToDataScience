{
  "cells": [
    {
      "cell_type": "markdown",
      "metadata": {
        "id": "view-in-github",
        "colab_type": "text"
      },
      "source": [
        "<a href=\"https://colab.research.google.com/github/SeventyThreeCloud/RoadToDataScience/blob/main/PythonBasics.ipynb\" target=\"_parent\"><img src=\"https://colab.research.google.com/assets/colab-badge.svg\" alt=\"Open In Colab\"/></a>"
      ]
    },
    {
      "cell_type": "code",
      "execution_count": null,
      "metadata": {
        "id": "x4OrFzQPXP9F",
        "outputId": "78e4103b-1932-4206-e1e7-ab6875d8e440"
      },
      "outputs": [
        {
          "name": "stdout",
          "output_type": "stream",
          "text": [
            "-1\n"
          ]
        }
      ],
      "source": [
        "# Comment in single line \n",
        "\n",
        "\"\"\" Comment in Multiple Lines \"\"\"\n",
        "''' Comment in Multiple Lines '''\n",
        "''' The content between triple qoutes is ignored at time of execution '''\n",
        "\n",
        "# EXAMPLE OF CREATING A VARIABLE\n",
        "\n",
        "# We use # to add comment, it won’t run or affect the code\n",
        "# You use = to assign a value to the name of the variable. \n",
        "# Each code starts on the new line. No semicolon or {}\n",
        "# Python is awesome. You do not need to provide the data type of variable when creating it.\n",
        "\n",
        "int_var = -1;\n",
        "print(int_var);"
      ]
    },
    {
      "cell_type": "code",
      "execution_count": null,
      "metadata": {
        "id": "u-8iKAmqXP9H",
        "outputId": "99c57319-2d6e-4645-c6b2-d3fcbe77668f"
      },
      "outputs": [
        {
          "name": "stdout",
          "output_type": "stream",
          "text": [
            "299\n",
            "\n",
            "\n",
            "103\n",
            "97\n",
            "33.333333333333336\n",
            "33\n",
            "1\n",
            "1000000\n"
          ]
        },
        {
          "data": {
            "text/plain": [
              "float"
            ]
          },
          "execution_count": 49,
          "metadata": {},
          "output_type": "execute_result"
        }
      ],
      "source": [
        "### Numbers ###\n",
        "# Two types of the numbers integers \"int\" and floats \"float\"\n",
        "# Integers are real numbers like 1,2,100,-200 etc , Floats are decimal numbers like 1.2,1.3,100.2\n",
        "# Floats are not Real :)  \n",
        "\n",
        "var_int = 299  \n",
        "var_float = 73.3 \n",
        "\n",
        "print(var_int)\n",
        "\n",
        "print(\"\\n\")   # Newline\n",
        "print(100+3)  # add\n",
        "print(100-3)  # subtract\n",
        "print(100/3)  # division\n",
        "print(100//3) # floor division\n",
        "print(100%3)  # modular division\n",
        "print(100**3) # powers\n",
        "\n",
        "type(var_float)"
      ]
    },
    {
      "cell_type": "code",
      "execution_count": null,
      "metadata": {
        "id": "VIDifRwKXP9H",
        "outputId": "f2ad3ff6-c4aa-41ec-b21f-a8e12a67abb6"
      },
      "outputs": [
        {
          "name": "stdout",
          "output_type": "stream",
          "text": [
            "applemacbook\n",
            "apple macbook\n",
            "False\n",
            "True\n"
          ]
        }
      ],
      "source": [
        "### Strings ###\n",
        "# Can be represented using 'singleqoute' or \"doubleqoute\"\n",
        "# Integers are real numbers like 1,2,100,-200 etc , Floats are decimal numbers like 1.2,1.3,100.2\n",
        "# Floats are not Real :)  \n",
        "\n",
        "str1 = \"apple\"\n",
        "str2 = 'macbook'\n",
        "\n",
        "print(str1 + str2);\n",
        "print(str1 + ' ' + str2);\n",
        "\n",
        "#Compare Strings\n",
        "\n",
        "print('AAAA' == 'aAAA')\n",
        "print('aAAA' == 'aAAA')\n"
      ]
    },
    {
      "cell_type": "code",
      "execution_count": null,
      "metadata": {
        "id": "19pzs1YLXP9I",
        "outputId": "799aeb75-6f88-4dde-d980-a853a7aa5f1e"
      },
      "outputs": [
        {
          "name": "stdout",
          "output_type": "stream",
          "text": [
            "A random line of text\n",
            "A Random Line Of Text\n",
            "A RANDOM LINE OF TEXT\n",
            "a random line of text\n",
            "['a random Line of text']\n",
            "['a', 'random', 'Line', 'of', 'text']\n",
            "['a random Line of text']\n",
            "['I', 'Can', 'Do', 'This', 'Too']\n",
            "['I,Can,Do,This,Too']\n",
            "<class 'list'>\n",
            "a,random,Line,of,text\n",
            "a random ok of text\n"
          ]
        }
      ],
      "source": [
        "### String Methods ###\n",
        "\n",
        "line = \"a random Line of text\";\n",
        "# Case capitalization \n",
        "# It return the string with first letter capitalized and the rest being lower cases. \n",
        "print(line.capitalize())\n",
        "\n",
        "# Given a string, convert it into title (each word is capitalized)\n",
        "print(line.title())\n",
        "\n",
        "#Convert a String to upper case\n",
        "print(line.upper())\n",
        "\n",
        "#Convert a String to lower case\n",
        "print(line.lower())\n",
        "\n",
        "#Split the String with the delimiter\n",
        "#split('delimiter','maxsplits')\n",
        "#maxsplits --> default to -1 : no limit , else send value max list index you need , if you need to split into 3 parts pass 2 as 0 will start point of the list index\n",
        "\n",
        "print(line.split(',')); # split whereever ',' is found \n",
        "\n",
        "print(line.split()); # split with ' '(Space) as delimiter\n",
        "\n",
        "print(line.split(' ',0)); #split with ' '(Space) as delimiter and max split is 0 \n",
        "\n",
        "print('I,Can,Do,This,Too'.split(',')); # can split the string directly\n",
        "\n",
        "print('I,Can,Do,This,Too'.split()); \n",
        "print(type(line.split(' ',0))) # Print the type after split it will be list\n",
        "\n",
        "#Lastly, we can use replace() method to replace some characters in string with another characters. \n",
        "#Replace method takes two inputs: characters to be replaced, and new characters to be inserted in string, replace('characters to be replaced', 'new characters').\n",
        "\n",
        "print(line.replace(' ', ','))\n",
        "print(line.replace('Line', 'ok'))"
      ]
    },
    {
      "cell_type": "code",
      "execution_count": null,
      "metadata": {
        "id": "CXBx3yJlXP9J"
      },
      "outputs": [],
      "source": [
        "### Data Structure ###"
      ]
    }
  ],
  "metadata": {
    "kernelspec": {
      "display_name": "Python 3",
      "language": "python",
      "name": "python3"
    },
    "language_info": {
      "codemirror_mode": {
        "name": "ipython",
        "version": 3
      },
      "file_extension": ".py",
      "mimetype": "text/x-python",
      "name": "python",
      "nbconvert_exporter": "python",
      "pygments_lexer": "ipython3",
      "version": "3.10.4"
    },
    "orig_nbformat": 4,
    "vscode": {
      "interpreter": {
        "hash": "7e1998ff7f8aa20ada591c520b972326324e5ea05489af9e422744c7c09f6dad"
      }
    },
    "colab": {
      "provenance": [],
      "include_colab_link": true
    }
  },
  "nbformat": 4,
  "nbformat_minor": 0
}